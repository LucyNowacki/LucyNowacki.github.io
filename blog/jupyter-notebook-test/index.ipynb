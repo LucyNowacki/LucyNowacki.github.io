{
 "cells": [
  {
   "cell_type": "code",
   "execution_count": 2,
   "id": "79439159",
   "metadata": {},
   "outputs": [
    {
     "name": "stdout",
     "output_type": "stream",
     "text": [
      "CUDA available:  True\n",
      "PyTorch version:  1.11.0\n"
     ]
    }
   ],
   "source": [
    "%matplotlib inline\n",
    "import torch\n",
    "import torch.nn as nn\n",
    "import torch.nn.functional as F\n",
    "import torch.optim as optim\n",
    "from torch.autograd import Variable\n",
    "import torchvision\n",
    "from torchvision import datasets, transforms, models\n",
    "from torch.utils.data import DataLoader\n",
    "############################ To depict your neural network ################################################\n",
    "#!pip install torchviz\n",
    "from torchviz import make_dot\n",
    "from graphviz import Digraph\n",
    "########################### If you want to use TensorBoard ###############################################\n",
    "#from torch.utils.tensorboard import SummaryWriter\n",
    "########################## To plot #######################################################################\n",
    "import numpy as np\n",
    "import matplotlib.pyplot as plt\n",
    "%load_ext autoreload\n",
    "%autoreload 2\n",
    "\n",
    "######################### turn off graphics tuning if necessary if you like it ##########################\n",
    "#!conda install -c conda-forge jupyterthemes # - for confusion matrix\n",
    "from jupyterthemes import jtplot\n",
    "jtplot.style(theme=\"grade3\", context=\"notebook\", ticks=True, grid=True)\n",
    "#########################################################################################################\n",
    "print(\"CUDA available: \", torch.cuda.is_available())\n",
    "device = torch.device(\"cuda:0\" if torch.cuda.is_available() else \"cpu\") \n",
    "print(\"PyTorch version: \", torch.__version__ )"
   ]
  },
  {
   "cell_type": "markdown",
   "id": "1b5f54ce",
   "metadata": {},
   "source": [
    "## Adversarial Attacks\n",
    "To check the robustness of our trained model, I applied two types of adversarial attacks. The idea is that if our model correctly classified some input data, we impose perturbation $\\delta$ to that input data $x$ to escape from the minimum of the objective function. We set weights (trained model parameters) and compute gradients w.r.t input data in an adversarial algorithm. As a result, the algorithm goes in the direction of the gradient and hence there is a gradient ascent. Note that in gradient descent, we impose a negative sign to go in the opposite direction of the gradient. In general, the aim of the adversarial attack is to create imperceptible data inputs such that the model misclassifies these inputs.\\\n",
    "For perturbated input ${x'}=x+\\delta\\,\\,\\in[0,1]^{n}$ and output $y$ we obtain not true labels and we can write\n",
    "$$f_{\\Theta}({x'})\\neq y_{true}$$\n",
    "Also, a perturbation should be fixed on each pixel by size $\\epsilon$ (max perturbation), and we obtain bounded adversarial pixel within $\\epsilon$-neigbourhood\n",
    "$$||{x'}-x||_{p}<\\epsilon$$\n",
    ", which in general can be written as $$\\displaystyle \\max_{x}Loss(f(x+\\delta),y), \\,\\,\\,\\delta\\in\\mathcal{B}_{\\epsilon}(x)$$ \n",
    "or\n",
    "$$\\displaystyle \\min_{x}-Loss(f(x+\\delta),y),\\,\\,\\,\\delta\\in\\mathcal{B}_{\\epsilon}(x)$$ \n",
    "where ${B}_{\\epsilon}(x)$ is a ball. Thus, we compute the gradient w.r.t input, $x$, and our aim is to find a $x$ s.t. the loss is maximized that leads to the missclassification. \n",
    "\n",
    "In thecase of metric spaces, the distance can be measured by means of $L_{p}$ norms."
   ]
  },
  {
   "cell_type": "markdown",
   "id": "b5888cb4",
   "metadata": {},
   "source": []
  }
 ],
 "metadata": {
  "interpreter": {
   "hash": "4ce040436ee3394d86ee49d40524f91ac9193a63d76901d2a4797f6fd8bc6f12"
  },
  "kernelspec": {
   "display_name": "Python 3.9.0 ('tor')",
   "language": "python",
   "name": "python3"
  },
  "language_info": {
   "codemirror_mode": {
    "name": "ipython",
    "version": 3
   },
   "file_extension": ".py",
   "mimetype": "text/x-python",
   "name": "python",
   "nbconvert_exporter": "python",
   "pygments_lexer": "ipython3",
   "version": "3.9.0"
  },
  "nikola": {
   "category": "",
   "date": "2022-05-22 11:44:24 UTC+01:00",
   "description": "",
   "link": "",
   "slug": "jupyter-notebook-test",
   "tags": "",
   "title": "Jupyter-notebook-test",
   "type": "text"
  }
 },
 "nbformat": 4,
 "nbformat_minor": 5
}
