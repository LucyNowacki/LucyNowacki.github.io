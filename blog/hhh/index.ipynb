{
 "cells": [
  {
   "cell_type": "markdown",
   "id": "0ca5dbc3",
   "metadata": {},
   "source": [
    "Write your post here."
   ]
  },
  {
   "cell_type": "markdown",
   "id": "4254bd5e",
   "metadata": {},
   "source": [
    "To approximate our image from SVD matrices, we form a diagonal matrix $\\Sigma_k$ based on the thresholded singular values, i.e., we zero out all the singular values after the threshold. To recover the approximation matrix, we multiply matrices $X_{k}= U \\Sigma_k V^T$.\n",
    "The approximation results are shown below. Note that the image is standardised. "
   ]
  },
  {
   "cell_type": "markdown",
   "id": "db8019f8",
   "metadata": {},
   "source": []
  }
 ],
 "metadata": {
  "kernelspec": {
   "display_name": "Python 3 (ipykernel)",
   "env": {},
   "interrupt_mode": "signal",
   "language": "python",
   "metadata": {
    "debugger": true
   },
   "name": "python3"
  },
  "nikola": {
   "category": "",
   "date": "2023-07-24 16:53:06 UTC+01:00",
   "description": "",
   "link": "",
   "slug": "hhh",
   "tags": "NLP",
   "title": "hhh",
   "type": "text"
  }
 },
 "nbformat": 4,
 "nbformat_minor": 5
}
